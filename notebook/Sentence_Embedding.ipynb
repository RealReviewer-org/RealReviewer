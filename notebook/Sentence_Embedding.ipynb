{
 "cells": [
  {
   "cell_type": "code",
   "execution_count": 3,
   "metadata": {},
   "outputs": [],
   "source": [
    "from sentence_transformers import SentenceTransformer\n",
    "from sklearn.cluster import DBSCAN\n",
    "import numpy as np\n",
    "import pandas as pd\n",
    "\n",
    "# SBERT 모델 로드\n",
    "embedder = SentenceTransformer(\"jhgan/ko-sbert-sts\")\n",
    "\n",
    "# 데이터 준비\n",
    "review = pd.read_csv(\"../data/filtered_review_with_sentiment_scores.csv\")\n",
    "review['리뷰 텍스트'] = review['리뷰 텍스트'].fillna('').astype(str)\n",
    "texts = review['리뷰 텍스트'].tolist()\n",
    "\n",
    "# 배치 처리로 임베딩 생성\n",
    "batch_size = 32\n",
    "embeddings = []\n",
    "with open('embeddings.npy', 'wb') as f:\n",
    "    for i in range(0, len(texts), batch_size):\n",
    "        batch_texts = texts[i:i + batch_size]\n",
    "        batch_embeddings = embedder.encode(batch_texts, convert_to_tensor=False)\n",
    "        np.save(f, batch_embeddings)\n"
   ]
  },
  {
   "cell_type": "code",
   "execution_count": null,
   "metadata": {},
   "outputs": [
    {
     "ename": "",
     "evalue": "",
     "output_type": "error",
     "traceback": [
      "\u001b[1;31m현재 셀 또는 이전 셀에서 코드를 실행하는 동안 Kernel이 충돌했습니다. \n",
      "\u001b[1;31m셀의 코드를 검토하여 가능한 오류 원인을 식별하세요. \n",
      "\u001b[1;31m자세한 내용을 보려면 <a href='https://aka.ms/vscodeJupyterKernelCrash'>여기</a>를 클릭하세요. \n",
      "\u001b[1;31m자세한 내용은 Jupyter <a href='command:jupyter.viewOutput'>로그</a>를 참조하세요."
     ]
    }
   ],
   "source": [
    "embeddings = []\n",
    "\n",
    "with open('embeddings.npy', 'rb') as f:\n",
    "    while True:\n",
    "        try:\n",
    "            batch_embeddings = np.load(f)\n",
    "            embeddings.append(batch_embeddings)\n",
    "        except EOFError:\n",
    "            break\n",
    "\n",
    "embeddings_np = np.vstack(embeddings)"
   ]
  },
  {
   "cell_type": "code",
   "execution_count": null,
   "metadata": {},
   "outputs": [],
   "source": [
    "# DBSCAN 클러스터링\n",
    "dbscan = DBSCAN(eps=1.0, min_samples=5, metric='cosine')\n",
    "labels = dbscan.fit_predict(embeddings_np)\n",
    "# 결과 저장\n",
    "review['cluster'] = labels\n",
    "print(review[['리뷰 텍스트', 'cluster']].head())"
   ]
  }
 ],
 "metadata": {
  "language_info": {
   "name": "python"
  }
 },
 "nbformat": 4,
 "nbformat_minor": 2
}
