{
 "cells": [
  {
   "cell_type": "code",
   "execution_count": null,
   "metadata": {},
   "outputs": [],
   "source": [
    "import pandas as pd\n",
    "import re\n",
    "from konlpy.tag import Okt\n",
    "\n",
    "import numpy as np\n"
   ]
  },
  {
   "cell_type": "code",
   "execution_count": 2,
   "metadata": {},
   "outputs": [],
   "source": [
    "review = pd.read_csv(\"merged_data_with_university.csv\")"
   ]
  },
  {
   "cell_type": "code",
   "execution_count": 3,
   "metadata": {},
   "outputs": [],
   "source": [
    "# 감성어 사전 불러오기 및 처리\n",
    "sentiment_data = pd.read_csv('KnuSentiLex/SentiWord_Dict.txt', sep='\\t', header=None, names=['단어', '극성'])\n",
    "sentiment_dictionary = sentiment_data.set_index('단어')['극성'].to_dict()  # 사전 형태로 변환"
   ]
  },
  {
   "cell_type": "markdown",
   "metadata": {},
   "source": [
    "# 형태소 분석"
   ]
  },
  {
   "cell_type": "code",
   "execution_count": 4,
   "metadata": {},
   "outputs": [],
   "source": [
    "# 리뷰 텍스트 전처리 함수\n",
    "def preprocess_text(text):\n",
    "    text = re.sub(r'[^ㄱ-ㅎㅏ-ㅣ가-힣\\s]', '', text)  # 한글과 공백만 남기기\n",
    "    return text.strip()\n",
    "\n",
    "# 전처리 적용\n",
    "review['리뷰 텍스트'] = review['리뷰 텍스트'].apply(lambda x: preprocess_text(str(x)))"
   ]
  },
  {
   "cell_type": "code",
   "execution_count": 15,
   "metadata": {},
   "outputs": [
    {
     "name": "stdout",
     "output_type": "stream",
     "text": [
      "                                              리뷰 텍스트  \\\n",
      "0  서울권에 있는 카페 거의 다가봤는데 개인적으로 등 티어입니다 친구들 회기오면 무조건...   \n",
      "1  분위기도 좋은데 커피가 너무 맛있어요 디카페인커피는 경험상 일반 아메리카노보다 맛이...   \n",
      "2  오랫만에 왔는데 여전히 커피도 맛있네요 시나몬카푸치노였는데 은은한 시나몬향과 살짝 ...   \n",
      "3  한번 와보고 싶었던 곳인데 드디어 와봅니다\\n판나코타 궁금했는데 이건 인 개 주문해...   \n",
      "4  오늘 일카페\\n동생이 경희대 근처 커피집 다 이쁘고 맛나다고 ㅋ\\n지나가다 봐둔 카...   \n",
      "\n",
      "                                                  명사  \\\n",
      "0  서울 카페 거의 다가 개인 등 티어 친구 회 기오 무조건 데리 심지어 명 멀리사 데...   \n",
      "1  분위기 커피 디카 페인 커피 경험 일반 아메리카노 맛 안 밤 수 조용조 단골 듯 곳...   \n",
      "2  만 커피 시나몬 카푸치노 시나몬 향 살짝 단맛 커피 오늘 비 더 자주 근처 병원 때...   \n",
      "3  한번 보고 곳 판나코타 것 인 개 주문 요 순삭 다른 디저트 휘 낭시 초코 티그레 ...   \n",
      "4  오늘 카페 동생 경희대 근처 커피집 맛 카페 또 저 고가 보기 동네 혼자 못 여기 ...   \n",
      "\n",
      "                                                 형용사  \n",
      "0  있다 이다 좋아하다 비싸다 같다 저렴하다 따뜻하다 중요하다 맛있다 싫어하다 좋아하다...  \n",
      "1                좋다 맛있다 덜하다 맛있다 용하다 많다 맛있다 좋다 같다 맛있다  \n",
      "2                           여전하다 맛있다 은은하다 그렇다 맛있다 있다  \n",
      "3  궁금하다 부드럽다 적당하다 궁금하다 없다 아쉽다 강하다 좋아하다 아니다 그렇다 없다...  \n",
      "4        이쁘다 재미있다 차분하다 좋다 굳다 굳다 좋아하다 신기하다 달콤하다 굳다 굳다  \n"
     ]
    }
   ],
   "source": [
    "okt = Okt()\n",
    "# 명사 추출 함수\n",
    "def extract_nouns(text):\n",
    "    try:\n",
    "        pos_list = okt.pos(text, norm=True, stem=True)\n",
    "        nouns = [word for word, tag in pos_list if tag == 'Noun']\n",
    "        return ' '.join(nouns)\n",
    "    except Exception as e:\n",
    "        print(f\"Error processing text: {text} - {e}\")\n",
    "        return ''\n",
    "\n",
    "# 형용사 추출 함수\n",
    "def extract_adjectives(text):\n",
    "    try:\n",
    "        pos_list = okt.pos(text, norm=True, stem=True)\n",
    "        adjectives = [word for word, tag in pos_list if tag == 'Adjective']\n",
    "        return ' '.join(adjectives)\n",
    "    except Exception as e:\n",
    "        print(f\"Error processing text: {text} - {e}\")\n",
    "        return ''\n",
    "\n",
    "# 명사 컬럼 추가\n",
    "review['명사'] = review['리뷰 텍스트'].apply(lambda x: extract_nouns(str(x)))\n",
    "\n",
    "# 형용사 컬럼 추가\n",
    "review['형용사'] = review['리뷰 텍스트'].apply(lambda x: extract_adjectives(str(x)))\n",
    "\n",
    "# 결과 확인\n",
    "print(review[['리뷰 텍스트', '명사', '형용사']].head())"
   ]
  },
  {
   "cell_type": "code",
   "execution_count": 16,
   "metadata": {},
   "outputs": [],
   "source": [
    "# 저장\n",
    "review.to_csv('review_with_nouns_adjectives.csv', index=False, encoding='utf-8-sig')"
   ]
  },
  {
   "cell_type": "code",
   "execution_count": 19,
   "metadata": {},
   "outputs": [
    {
     "data": {
      "text/html": [
       "<div>\n",
       "<style scoped>\n",
       "    .dataframe tbody tr th:only-of-type {\n",
       "        vertical-align: middle;\n",
       "    }\n",
       "\n",
       "    .dataframe tbody tr th {\n",
       "        vertical-align: top;\n",
       "    }\n",
       "\n",
       "    .dataframe thead th {\n",
       "        text-align: right;\n",
       "    }\n",
       "</style>\n",
       "<table border=\"1\" class=\"dataframe\">\n",
       "  <thead>\n",
       "    <tr style=\"text-align: right;\">\n",
       "      <th></th>\n",
       "      <th>대학교 이름</th>\n",
       "      <th>가게 이름</th>\n",
       "      <th>가게 평균 평점</th>\n",
       "      <th>리뷰어 리뷰수</th>\n",
       "      <th>리뷰 텍스트</th>\n",
       "      <th>리뷰 날짜</th>\n",
       "      <th>가게 방문수</th>\n",
       "      <th>태그들</th>\n",
       "      <th>명사</th>\n",
       "      <th>형용사</th>\n",
       "    </tr>\n",
       "  </thead>\n",
       "  <tbody>\n",
       "    <tr>\n",
       "      <th>0</th>\n",
       "      <td>서울시립대학교</td>\n",
       "      <td>컴투레스트</td>\n",
       "      <td>4.55</td>\n",
       "      <td>326</td>\n",
       "      <td>서울권에 있는 카페 거의 다가봤는데 개인적으로 등 티어입니다 친구들 회기오면 무조건...</td>\n",
       "      <td>11.11.월</td>\n",
       "      <td>7</td>\n",
       "      <td>커피가 맛있어요, 디저트가 맛있어요, 특별한 메뉴가 있어요, 아늑해요, 차분한 분위기에요</td>\n",
       "      <td>서울 카페 거의 다가 개인 등 티어 친구 회 기오 무조건 데리 심지어 명 멀리사 데...</td>\n",
       "      <td>있다 이다 좋아하다 비싸다 같다 저렴하다 따뜻하다 중요하다 맛있다 싫어하다 좋아하다...</td>\n",
       "    </tr>\n",
       "    <tr>\n",
       "      <th>1</th>\n",
       "      <td>서울시립대학교</td>\n",
       "      <td>컴투레스트</td>\n",
       "      <td>4.55</td>\n",
       "      <td>514</td>\n",
       "      <td>분위기도 좋은데 커피가 너무 맛있어요 디카페인커피는 경험상 일반 아메리카노보다 맛이...</td>\n",
       "      <td>10.26.토</td>\n",
       "      <td>1</td>\n",
       "      <td>커피가 맛있어요, 디저트가 맛있어요</td>\n",
       "      <td>분위기 커피 디카 페인 커피 경험 일반 아메리카노 맛 안 밤 수 조용조 단골 듯 곳...</td>\n",
       "      <td>좋다 맛있다 덜하다 맛있다 용하다 많다 맛있다 좋다 같다 맛있다</td>\n",
       "    </tr>\n",
       "    <tr>\n",
       "      <th>2</th>\n",
       "      <td>서울시립대학교</td>\n",
       "      <td>컴투레스트</td>\n",
       "      <td>4.55</td>\n",
       "      <td>379</td>\n",
       "      <td>오랫만에 왔는데 여전히 커피도 맛있네요 시나몬카푸치노였는데 은은한 시나몬향과 살짝 ...</td>\n",
       "      <td>10.22.화</td>\n",
       "      <td>1</td>\n",
       "      <td>커피가 맛있어요, 대화하기 좋아요</td>\n",
       "      <td>만 커피 시나몬 카푸치노 시나몬 향 살짝 단맛 커피 오늘 비 더 자주 근처 병원 때...</td>\n",
       "      <td>여전하다 맛있다 은은하다 그렇다 맛있다 있다</td>\n",
       "    </tr>\n",
       "    <tr>\n",
       "      <th>3</th>\n",
       "      <td>서울시립대학교</td>\n",
       "      <td>컴투레스트</td>\n",
       "      <td>4.55</td>\n",
       "      <td>97</td>\n",
       "      <td>한번 와보고 싶었던 곳인데 드디어 와봅니다\\n판나코타 궁금했는데 이건 인 개 주문해...</td>\n",
       "      <td>7.25.목</td>\n",
       "      <td>1</td>\n",
       "      <td>디저트가 맛있어요, 특별한 메뉴가 있어요, 인테리어가 멋져요, 아늑해요</td>\n",
       "      <td>한번 보고 곳 판나코타 것 인 개 주문 요 순삭 다른 디저트 휘 낭시 초코 티그레 ...</td>\n",
       "      <td>궁금하다 부드럽다 적당하다 궁금하다 없다 아쉽다 강하다 좋아하다 아니다 그렇다 없다...</td>\n",
       "    </tr>\n",
       "    <tr>\n",
       "      <th>4</th>\n",
       "      <td>서울시립대학교</td>\n",
       "      <td>컴투레스트</td>\n",
       "      <td>4.55</td>\n",
       "      <td>324</td>\n",
       "      <td>오늘 일카페\\n동생이 경희대 근처 커피집 다 이쁘고 맛나다고 ㅋ\\n지나가다 봐둔 카...</td>\n",
       "      <td>7.4.목</td>\n",
       "      <td>1</td>\n",
       "      <td>커피가 맛있어요, 인테리어가 멋져요, 사진이 잘 나와요, 대화하기 좋아요, 차분한 ...</td>\n",
       "      <td>오늘 카페 동생 경희대 근처 커피집 맛 카페 또 저 고가 보기 동네 혼자 못 여기 ...</td>\n",
       "      <td>이쁘다 재미있다 차분하다 좋다 굳다 굳다 좋아하다 신기하다 달콤하다 굳다 굳다</td>\n",
       "    </tr>\n",
       "  </tbody>\n",
       "</table>\n",
       "</div>"
      ],
      "text/plain": [
       "    대학교 이름  가게 이름 가게 평균 평점 리뷰어 리뷰수  \\\n",
       "0  서울시립대학교  컴투레스트     4.55     326   \n",
       "1  서울시립대학교  컴투레스트     4.55     514   \n",
       "2  서울시립대학교  컴투레스트     4.55     379   \n",
       "3  서울시립대학교  컴투레스트     4.55      97   \n",
       "4  서울시립대학교  컴투레스트     4.55     324   \n",
       "\n",
       "                                              리뷰 텍스트    리뷰 날짜  가게 방문수  \\\n",
       "0  서울권에 있는 카페 거의 다가봤는데 개인적으로 등 티어입니다 친구들 회기오면 무조건...  11.11.월       7   \n",
       "1  분위기도 좋은데 커피가 너무 맛있어요 디카페인커피는 경험상 일반 아메리카노보다 맛이...  10.26.토       1   \n",
       "2  오랫만에 왔는데 여전히 커피도 맛있네요 시나몬카푸치노였는데 은은한 시나몬향과 살짝 ...  10.22.화       1   \n",
       "3  한번 와보고 싶었던 곳인데 드디어 와봅니다\\n판나코타 궁금했는데 이건 인 개 주문해...   7.25.목       1   \n",
       "4  오늘 일카페\\n동생이 경희대 근처 커피집 다 이쁘고 맛나다고 ㅋ\\n지나가다 봐둔 카...    7.4.목       1   \n",
       "\n",
       "                                                 태그들  \\\n",
       "0  커피가 맛있어요, 디저트가 맛있어요, 특별한 메뉴가 있어요, 아늑해요, 차분한 분위기에요   \n",
       "1                                커피가 맛있어요, 디저트가 맛있어요   \n",
       "2                                 커피가 맛있어요, 대화하기 좋아요   \n",
       "3            디저트가 맛있어요, 특별한 메뉴가 있어요, 인테리어가 멋져요, 아늑해요   \n",
       "4  커피가 맛있어요, 인테리어가 멋져요, 사진이 잘 나와요, 대화하기 좋아요, 차분한 ...   \n",
       "\n",
       "                                                  명사  \\\n",
       "0  서울 카페 거의 다가 개인 등 티어 친구 회 기오 무조건 데리 심지어 명 멀리사 데...   \n",
       "1  분위기 커피 디카 페인 커피 경험 일반 아메리카노 맛 안 밤 수 조용조 단골 듯 곳...   \n",
       "2  만 커피 시나몬 카푸치노 시나몬 향 살짝 단맛 커피 오늘 비 더 자주 근처 병원 때...   \n",
       "3  한번 보고 곳 판나코타 것 인 개 주문 요 순삭 다른 디저트 휘 낭시 초코 티그레 ...   \n",
       "4  오늘 카페 동생 경희대 근처 커피집 맛 카페 또 저 고가 보기 동네 혼자 못 여기 ...   \n",
       "\n",
       "                                                 형용사  \n",
       "0  있다 이다 좋아하다 비싸다 같다 저렴하다 따뜻하다 중요하다 맛있다 싫어하다 좋아하다...  \n",
       "1                좋다 맛있다 덜하다 맛있다 용하다 많다 맛있다 좋다 같다 맛있다  \n",
       "2                           여전하다 맛있다 은은하다 그렇다 맛있다 있다  \n",
       "3  궁금하다 부드럽다 적당하다 궁금하다 없다 아쉽다 강하다 좋아하다 아니다 그렇다 없다...  \n",
       "4        이쁘다 재미있다 차분하다 좋다 굳다 굳다 좋아하다 신기하다 달콤하다 굳다 굳다  "
      ]
     },
     "execution_count": 19,
     "metadata": {},
     "output_type": "execute_result"
    }
   ],
   "source": [
    "review = pd.read_csv('review_with_nouns_adjectives.csv')\n",
    "review.head()"
   ]
  },
  {
   "cell_type": "code",
   "execution_count": 28,
   "metadata": {},
   "outputs": [],
   "source": [
    "def lemmatize(sentence):\n",
    "    if not isinstance(sentence, str):  # 문자열이 아닌 경우 빈 리스트 반환\n",
    "        print(f\"Invalid input detected: {sentence}\")\n",
    "        return []\n",
    "\n",
    "    try:\n",
    "        # 형태소 분석 및 태그 추출\n",
    "        morphtags = okt.pos(sentence, norm=True, stem=True)\n",
    "        words = []\n",
    "        for word, tag in morphtags:\n",
    "            if tag == 'Noun':  # 명사\n",
    "                words.append(word)\n",
    "            elif tag in ['Adjective', 'Verb']:  # 형용사와 동사\n",
    "                if not word.endswith('다'):  # '다'가 이미 붙어 있지 않은 경우에만 추가\n",
    "                    word += '다'\n",
    "                words.append(word)\n",
    "        return words\n",
    "    except Exception as e:\n",
    "        print(f\"Error processing text: {sentence} - {e}\")\n",
    "        return []"
   ]
  },
  {
   "cell_type": "code",
   "execution_count": 29,
   "metadata": {},
   "outputs": [
    {
     "name": "stdout",
     "output_type": "stream",
     "text": [
      "['서울', '있다', '카페', '거의', '다가', '보다', '개인', '등', '티어', '이다', '친구', '회', '기오', '무조건', '데리', '가다', '좋아하다', '심지어', '명', '멀리사', '데', '여기다', '싶다', '회기', '옴', '가격', '더', '비싸다', '되다', '같다', '학생', '주머니', '사정', '때문', '저렴하다', '판매', '하다', '장님', '공간', '따뜻하다', '치유', '받다', '곳', '가장', '중요하다', '음료', '디저트', '맛있다', '우리', '집', '고양이', '나가다', '싫어하다', '여기', '카페', '장님', '좋아하다', '정말', '기묘하다', '장소']\n"
     ]
    }
   ],
   "source": [
    "word = lemmatize(review.iloc[0]['리뷰 텍스트'])\n",
    "print(word)"
   ]
  },
  {
   "cell_type": "code",
   "execution_count": 31,
   "metadata": {},
   "outputs": [],
   "source": [
    "# NaN 값 및 문자열 변환 적용\n",
    "review['리뷰 텍스트'] = review['리뷰 텍스트'].fillna('').astype(str)\n",
    "\n",
    "# '리뷰 텍스트' 컬럼에 Lemmatize 적용\n",
    "w_ = []\n",
    "for i in range(len(review)):\n",
    "    words = lemmatize(review.iloc[i]['리뷰 텍스트'])\n",
    "    w_.append(' '.join(words))  # 단어를 공백으로 연결하여 저장\n",
    "\n",
    "# 결과를 'words' 컬럼에 저장\n",
    "review['words'] = w_"
   ]
  },
  {
   "cell_type": "code",
   "execution_count": 32,
   "metadata": {},
   "outputs": [
    {
     "name": "stdout",
     "output_type": "stream",
     "text": [
      "                                              리뷰 텍스트  \\\n",
      "0  서울권에 있는 카페 거의 다가봤는데 개인적으로 등 티어입니다 친구들 회기오면 무조건...   \n",
      "1  분위기도 좋은데 커피가 너무 맛있어요 디카페인커피는 경험상 일반 아메리카노보다 맛이...   \n",
      "2  오랫만에 왔는데 여전히 커피도 맛있네요 시나몬카푸치노였는데 은은한 시나몬향과 살짝 ...   \n",
      "3  한번 와보고 싶었던 곳인데 드디어 와봅니다\\n판나코타 궁금했는데 이건 인 개 주문해...   \n",
      "4  오늘 일카페\\n동생이 경희대 근처 커피집 다 이쁘고 맛나다고 ㅋ\\n지나가다 봐둔 카...   \n",
      "\n",
      "                                               words  \n",
      "0  서울 있다 카페 거의 다가 보다 개인 등 티어 이다 친구 회 기오 무조건 데리 가다...  \n",
      "1  분위기 좋다 커피 맛있다 디카 페인 커피 경험 일반 아메리카노 맛 덜하다 안 마시다...  \n",
      "2  만 오다 여전하다 커피 맛있다 시나몬 카푸치노 이다 은은하다 시나몬 향 살짝 단맛 ...  \n",
      "3  한번 오다 보고 싶다 곳 오다 보다 판나코타 궁금하다 것 인 개 주문 하다 되다 요...  \n",
      "4  오늘 카페 동생 경희대 근처 커피집 이쁘다 맛 나다 지나가다 보다 두다 카페 또 가...  \n"
     ]
    }
   ],
   "source": [
    "print(review[['리뷰 텍스트', 'words']].head())"
   ]
  },
  {
   "cell_type": "code",
   "execution_count": 33,
   "metadata": {},
   "outputs": [
    {
     "name": "stdout",
     "output_type": "stream",
     "text": [
      "                                              리뷰 텍스트  \\\n",
      "0  서울권에 있는 카페 거의 다가봤는데 개인적으로 등 티어입니다 친구들 회기오면 무조건...   \n",
      "1  분위기도 좋은데 커피가 너무 맛있어요 디카페인커피는 경험상 일반 아메리카노보다 맛이...   \n",
      "2  오랫만에 왔는데 여전히 커피도 맛있네요 시나몬카푸치노였는데 은은한 시나몬향과 살짝 ...   \n",
      "3  한번 와보고 싶었던 곳인데 드디어 와봅니다\\n판나코타 궁금했는데 이건 인 개 주문해...   \n",
      "4  오늘 일카페\\n동생이 경희대 근처 커피집 다 이쁘고 맛나다고 ㅋ\\n지나가다 봐둔 카...   \n",
      "\n",
      "                                               words  sent_score  \n",
      "0  서울 있다 카페 거의 다가 보다 개인 등 티어 이다 친구 회 기오 무조건 데리 가다...    0.800000  \n",
      "1  분위기 좋다 커피 맛있다 디카 페인 커피 경험 일반 아메리카노 맛 덜하다 안 마시다...    1.875000  \n",
      "2  만 오다 여전하다 커피 맛있다 시나몬 카푸치노 이다 은은하다 시나몬 향 살짝 단맛 ...    2.000000  \n",
      "3  한번 오다 보고 싶다 곳 오다 보다 판나코타 궁금하다 것 인 개 주문 하다 되다 요...    0.454545  \n",
      "4  오늘 카페 동생 경희대 근처 커피집 이쁘다 맛 나다 지나가다 보다 두다 카페 또 가...    1.666667  \n"
     ]
    }
   ],
   "source": [
    "# 감성 점수 계산 및 데이터프레임에 추가\n",
    "total = []\n",
    "\n",
    "for i, w in enumerate(review['words']):  # review 데이터프레임 사용\n",
    "    sent_score = 0\n",
    "    valid_word_count = 0  # 감성어 사전에 포함된 유효 단어 수\n",
    "    w = w.split(' ')  # 단어를 공백으로 분리\n",
    "\n",
    "    for j in w:\n",
    "        if len(j) <= 1:  # 단어 길이가 1 이하인 경우 무시\n",
    "            continue\n",
    "        elif j not in sentiment_dictionary:  # 감성어 사전에 없는 단어 무시\n",
    "            continue\n",
    "        else:\n",
    "            sent_score += float(sentiment_dictionary[j])  # 감성 점수 합산\n",
    "            valid_word_count += 1\n",
    "\n",
    "    # 유효 단어가 없으면 점수는 0, 그렇지 않으면 평균 계산\n",
    "    if valid_word_count == 0:\n",
    "        total.append(0)\n",
    "    else:\n",
    "        total.append(sent_score / valid_word_count)\n",
    "\n",
    "# 결과를 'sent_score' 컬럼에 저장\n",
    "review['sent_score'] = total\n",
    "\n",
    "# 감성 점수가 0인 리뷰 제거\n",
    "filtered_review = review[review['sent_score'] != 0]\n",
    "\n",
    "# 결과 확인\n",
    "print(filtered_review[['리뷰 텍스트', 'words', 'sent_score']].head())\n",
    "\n",
    "# 결과 저장\n",
    "filtered_review.to_csv('filtered_review_with_sentiment_scores.csv', index=False, encoding='utf-8-sig')"
   ]
  },
  {
   "cell_type": "code",
   "execution_count": 38,
   "metadata": {},
   "outputs": [
    {
     "name": "stdout",
     "output_type": "stream",
     "text": [
      "sentiment\n",
      "긍정    87745\n",
      "중립    25135\n",
      "부정     2937\n",
      "Name: count, dtype: int64\n"
     ]
    }
   ],
   "source": [
    "import matplotlib.pyplot as plt\n",
    "import seaborn as sns\n",
    "import matplotlib.pyplot as plt\n",
    "import matplotlib as mpl\n",
    "\n",
    "# 폰트를 AppleGothic으로 설정\n",
    "mpl.rc('font', family='AppleGothic')\n",
    "\n",
    "# 음수 폰트가 깨지는 문제 해결\n",
    "mpl.rcParams['axes.unicode_minus'] = False\n",
    "\n",
    "# 감성 범주 추가\n",
    "def categorize_sentiment(score):\n",
    "    if score > 0:\n",
    "        return '긍정'\n",
    "    elif score < 0:\n",
    "        return '부정'\n",
    "    else:\n",
    "        return '중립'\n",
    "\n",
    "review['sentiment'] = review['sent_score'].apply(categorize_sentiment)\n",
    "\n",
    "# 감성 분포 출력\n",
    "sentiment_distribution = review['sentiment'].value_counts()\n",
    "print(sentiment_distribution)"
   ]
  },
  {
   "cell_type": "code",
   "execution_count": 39,
   "metadata": {},
   "outputs": [
    {
     "data": {
      "image/png": "[encoded data removed]",
      "text/plain": [
       "<Figure size 800x600 with 1 Axes>"
      ]
     },
     "metadata": {},
     "output_type": "display_data"
    }
   ],
   "source": [
    "# 히스토그램 시각화\n",
    "plt.figure(figsize=(8, 6))\n",
    "sns.histplot(review['sent_score'], bins=20, kde=True, color='blue')\n",
    "plt.title('감성 점수 분포')\n",
    "plt.xlabel('감성 점수')\n",
    "plt.ylabel('리뷰 수')\n",
    "plt.show()"
   ]
  },
  {
   "cell_type": "code",
   "execution_count": 40,
   "metadata": {},
   "outputs": [
    {
     "name": "stderr",
     "output_type": "stream",
     "text": [
      "/var/folders/nz/glbk0zl17d35x39jy85r5vhc0000gn/T/ipykernel_73668/1775973485.py:3: FutureWarning: \n",
      "\n",
      "Passing `palette` without assigning `hue` is deprecated and will be removed in v0.14.0. Assign the `x` variable to `hue` and set `legend=False` for the same effect.\n",
      "\n",
      "  sns.countplot(data=review, x='sentiment', palette='pastel')\n"
     ]
    },
    {
     "data": {
      "image/png": "[encoded data removed]",
      "text/plain": [
       "<Figure size 800x600 with 1 Axes>"
      ]
     },
     "metadata": {},
     "output_type": "display_data"
    }
   ],
   "source": [
    "# 막대그래프 시각화\n",
    "plt.figure(figsize=(8, 6))\n",
    "sns.countplot(data=review, x='sentiment', palette='pastel')\n",
    "plt.title('리뷰 감성 분포')\n",
    "plt.xlabel('감성')\n",
    "plt.ylabel('리뷰 수')\n",
    "plt.show()"
   ]
  },
  {
   "cell_type": "code",
   "execution_count": null,
   "metadata": {},
   "outputs": [],
   "source": []
  }
 ],
 "metadata": {
  "kernelspec": {
   "display_name": "torch",
   "language": "python",
   "name": "python3"
  },
  "language_info": {
   "codemirror_mode": {
    "name": "ipython",
    "version": 3
   },
   "file_extension": ".py",
   "mimetype": "text/x-python",
   "name": "python",
   "nbconvert_exporter": "python",
   "pygments_lexer": "ipython3",
   "version": "3.10.15"
  }
 },
 "nbformat": 4,
 "nbformat_minor": 2
}
