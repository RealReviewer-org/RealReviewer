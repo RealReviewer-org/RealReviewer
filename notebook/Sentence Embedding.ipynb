{
 "cells": [
  {
   "cell_type": "code",
   "execution_count": 1,
   "metadata": {},
   "outputs": [],
   "source": [
    "import pandas as pd\n",
    "from PyKomoran import *\n",
    "from PyKomoran import Komoran, DEFAULT_MODEL\n",
    "import re\n",
    "from konlpy.tag import Okt\n",
    "from sklearn.cluster import DBSCAN\n",
    "import numpy as np\n",
    "from sentence_transformers import SentenceTransformer,util"
   ]
  },
  {
   "cell_type": "code",
   "execution_count": 2,
   "metadata": {},
   "outputs": [],
   "source": [
    "review = pd.read_csv(\"merged_data_with_university.csv\")"
   ]
  },
  {
   "cell_type": "code",
   "execution_count": 3,
   "metadata": {},
   "outputs": [],
   "source": [
    "# 감성어 사전 불러오기 및 처리\n",
    "sentiment_data = pd.read_csv('KnuSentiLex/SentiWord_Dict.txt', sep='\\t', header=None, names=['단어', '극성'])\n",
    "sentiment_dictionary = sentiment_data.set_index('단어')['극성'].to_dict()  # 사전 형태로 변환"
   ]
  },
  {
   "cell_type": "markdown",
   "metadata": {},
   "source": [
    "# 형태소 분석"
   ]
  },
  {
   "cell_type": "code",
   "execution_count": 4,
   "metadata": {},
   "outputs": [],
   "source": [
    "# 리뷰 텍스트 전처리 함수\n",
    "def preprocess_text(text):\n",
    "    text = re.sub(r'[^ㄱ-ㅎㅏ-ㅣ가-힣\\s]', '', text)  # 한글과 공백만 남기기\n",
    "    return text.strip()\n",
    "\n",
    "# 전처리 적용\n",
    "review['리뷰 텍스트'] = review['리뷰 텍스트'].apply(lambda x: preprocess_text(str(x)))"
   ]
  },
  {
   "cell_type": "code",
   "execution_count": 15,
   "metadata": {},
   "outputs": [
    {
     "name": "stdout",
     "output_type": "stream",
     "text": [
      "                                              리뷰 텍스트  \\\n",
      "0  서울권에 있는 카페 거의 다가봤는데 개인적으로 등 티어입니다 친구들 회기오면 무조건...   \n",
      "1  분위기도 좋은데 커피가 너무 맛있어요 디카페인커피는 경험상 일반 아메리카노보다 맛이...   \n",
      "2  오랫만에 왔는데 여전히 커피도 맛있네요 시나몬카푸치노였는데 은은한 시나몬향과 살짝 ...   \n",
      "3  한번 와보고 싶었던 곳인데 드디어 와봅니다\\n판나코타 궁금했는데 이건 인 개 주문해...   \n",
      "4  오늘 일카페\\n동생이 경희대 근처 커피집 다 이쁘고 맛나다고 ㅋ\\n지나가다 봐둔 카...   \n",
      "\n",
      "                                                  명사  \\\n",
      "0  서울 카페 거의 다가 개인 등 티어 친구 회 기오 무조건 데리 심지어 명 멀리사 데...   \n",
      "1  분위기 커피 디카 페인 커피 경험 일반 아메리카노 맛 안 밤 수 조용조 단골 듯 곳...   \n",
      "2  만 커피 시나몬 카푸치노 시나몬 향 살짝 단맛 커피 오늘 비 더 자주 근처 병원 때...   \n",
      "3  한번 보고 곳 판나코타 것 인 개 주문 요 순삭 다른 디저트 휘 낭시 초코 티그레 ...   \n",
      "4  오늘 카페 동생 경희대 근처 커피집 맛 카페 또 저 고가 보기 동네 혼자 못 여기 ...   \n",
      "\n",
      "                                                 형용사  \n",
      "0  있다 이다 좋아하다 비싸다 같다 저렴하다 따뜻하다 중요하다 맛있다 싫어하다 좋아하다...  \n",
      "1                좋다 맛있다 덜하다 맛있다 용하다 많다 맛있다 좋다 같다 맛있다  \n",
      "2                           여전하다 맛있다 은은하다 그렇다 맛있다 있다  \n",
      "3  궁금하다 부드럽다 적당하다 궁금하다 없다 아쉽다 강하다 좋아하다 아니다 그렇다 없다...  \n",
      "4        이쁘다 재미있다 차분하다 좋다 굳다 굳다 좋아하다 신기하다 달콤하다 굳다 굳다  \n"
     ]
    }
   ],
   "source": [
    "okt = Okt()\n",
    "# 명사 추출 함수\n",
    "def extract_nouns(text):\n",
    "    try:\n",
    "        pos_list = okt.pos(text, norm=True, stem=True)\n",
    "        nouns = [word for word, tag in pos_list if tag == 'Noun']\n",
    "        return ' '.join(nouns)\n",
    "    except Exception as e:\n",
    "        print(f\"Error processing text: {text} - {e}\")\n",
    "        return ''\n",
    "\n",
    "# 형용사 추출 함수\n",
    "def extract_adjectives(text):\n",
    "    try:\n",
    "        pos_list = okt.pos(text, norm=True, stem=True)\n",
    "        adjectives = [word for word, tag in pos_list if tag == 'Adjective']\n",
    "        return ' '.join(adjectives)\n",
    "    except Exception as e:\n",
    "        print(f\"Error processing text: {text} - {e}\")\n",
    "        return ''\n",
    "\n",
    "# 명사 컬럼 추가\n",
    "review['명사'] = review['리뷰 텍스트'].apply(lambda x: extract_nouns(str(x)))\n",
    "\n",
    "# 형용사 컬럼 추가\n",
    "review['형용사'] = review['리뷰 텍스트'].apply(lambda x: extract_adjectives(str(x)))\n",
    "\n",
    "# 결과 확인\n",
    "print(review[['리뷰 텍스트', '명사', '형용사']].head())"
   ]
  },
  {
   "cell_type": "code",
   "execution_count": 16,
   "metadata": {},
   "outputs": [],
   "source": [
    "# 저장\n",
    "review.to_csv('review_with_nouns_adjectives.csv', index=False, encoding='utf-8-sig')"
   ]
  },
  {
   "cell_type": "code",
   "execution_count": null,
   "metadata": {},
   "outputs": [
    {
     "data": {
      "text/plain": [
       "0    서울권에 있는 카페 거의 다가봤는데 개인적으로 등 티어입니다 친구들 회기오면 무조건...\n",
       "1    분위기도 좋은데 커피가 너무 맛있어요 디카페인커피는 경험상 일반 아메리카노보다 맛이...\n",
       "2    오랫만에 왔는데 여전히 커피도 맛있네요 시나몬카푸치노였는데 은은한 시나몬향과 살짝 ...\n",
       "3    한번 와보고 싶었던 곳인데 드디어 와봅니다\\n판나코타 궁금했는데 이건 인 개 주문해...\n",
       "4    오늘 일카페\\n동생이 경희대 근처 커피집 다 이쁘고 맛나다고 ㅋ\\n지나가다 봐둔 카...\n",
       "Name: 리뷰 텍스트, dtype: object"
      ]
     },
     "execution_count": 9,
     "metadata": {},
     "output_type": "execute_result"
    }
   ],
   "source": []
  },
  {
   "cell_type": "code",
   "execution_count": null,
   "metadata": {},
   "outputs": [],
   "source": []
  }
 ],
 "metadata": {
  "kernelspec": {
   "display_name": "torch",
   "language": "python",
   "name": "python3"
  },
  "language_info": {
   "codemirror_mode": {
    "name": "ipython",
    "version": 3
   },
   "file_extension": ".py",
   "mimetype": "text/x-python",
   "name": "python",
   "nbconvert_exporter": "python",
   "pygments_lexer": "ipython3",
   "version": "3.10.15"
  }
 },
 "nbformat": 4,
 "nbformat_minor": 2
}
